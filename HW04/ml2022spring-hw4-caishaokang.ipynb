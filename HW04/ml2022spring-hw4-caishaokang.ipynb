{
 "cells": [
  {
   "cell_type": "markdown",
   "id": "907084f5",
   "metadata": {
    "id": "C_jdZ5vHJ4A9",
    "papermill": {
     "duration": 0.006218,
     "end_time": "2022-11-15T11:07:44.230922",
     "exception": false,
     "start_time": "2022-11-15T11:07:44.224704",
     "status": "completed"
    },
    "tags": []
   },
   "source": [
    "# Task description\n",
    "- Classify the speakers of given features.\n",
    "- Main goal: Learn how to use transformer.\n",
    "- Baselines:\n",
    "  - Easy: Run sample code and know how to use transformer.\n",
    "  - Medium: Know how to adjust parameters of transformer.\n",
    "  - Strong: Construct [conformer](https://arxiv.org/abs/2005.08100) which is a variety of transformer. \n",
    "  - Boss: Implement [Self-Attention Pooling](https://arxiv.org/pdf/2008.01077v1.pdf) & [Additive Margin Softmax](https://arxiv.org/pdf/1801.05599.pdf) to further boost the performance.\n",
    "\n",
    "- Other links\n",
    "  - Kaggle: [link](https://www.kaggle.com/t/ac77388c90204a4c8daebeddd40ff916)\n",
    "  - Slide: [link](https://docs.google.com/presentation/d/1HLAj7UUIjZOycDe7DaVLSwJfXVd3bXPOyzSb6Zk3hYU/edit?usp=sharing)\n",
    "  - Data: [link](https://drive.google.com/drive/folders/1vI1kuLB-q1VilIftiwnPOCAeOOFfBZge?usp=sharing)\n",
    "\n",
    "# Download dataset\n",
    "- Data is [here](https://drive.google.com/drive/folders/1vI1kuLB-q1VilIftiwnPOCAeOOFfBZge?usp=sharing)"
   ]
  },
  {
   "cell_type": "code",
   "execution_count": 1,
   "id": "c98a1137",
   "metadata": {
    "execution": {
     "iopub.execute_input": "2022-11-15T11:07:44.243012Z",
     "iopub.status.busy": "2022-11-15T11:07:44.242251Z",
     "iopub.status.idle": "2022-11-15T11:07:52.563072Z",
     "shell.execute_reply": "2022-11-15T11:07:52.561765Z"
    },
    "id": "LhLNWB-AK2Z5",
    "outputId": "d2481dbd-f069-4562-8544-cf4871734cc1",
    "papermill": {
     "duration": 8.329807,
     "end_time": "2022-11-15T11:07:52.565845",
     "exception": false,
     "start_time": "2022-11-15T11:07:44.236038",
     "status": "completed"
    },
    "tags": []
   },
   "outputs": [
    {
     "name": "stdout",
     "output_type": "stream",
     "text": [
      "--2022-11-15 11:07:45--  https://github.com/MachineLearningHW/ML_HW4_Dataset/releases/latest/download/Dataset.tar.gz.partaa\r\n",
      "Resolving github.com (github.com)... 140.82.114.3\r\n",
      "Connecting to github.com (github.com)|140.82.114.3|:443... connected.\r\n",
      "HTTP request sent, awaiting response... 404 Not Found\r\n",
      "2022-11-15 11:07:45 ERROR 404: Not Found.\r\n",
      "\r\n",
      "--2022-11-15 11:07:46--  https://github.com/MachineLearningHW/ML_HW4_Dataset/releases/latest/download/Dataset.tar.gz.partab\r\n",
      "Resolving github.com (github.com)... 140.82.112.4\r\n",
      "Connecting to github.com (github.com)|140.82.112.4|:443... connected.\r\n",
      "HTTP request sent, awaiting response... 404 Not Found\r\n",
      "2022-11-15 11:07:47 ERROR 404: Not Found.\r\n",
      "\r\n",
      "--2022-11-15 11:07:48--  https://github.com/MachineLearningHW/ML_HW4_Dataset/releases/latest/download/Dataset.tar.gz.partac\r\n",
      "Resolving github.com (github.com)... 140.82.112.4\r\n",
      "Connecting to github.com (github.com)|140.82.112.4|:443... connected.\r\n",
      "HTTP request sent, awaiting response... 404 Not Found\r\n",
      "2022-11-15 11:07:48 ERROR 404: Not Found.\r\n",
      "\r\n",
      "--2022-11-15 11:07:49--  https://github.com/MachineLearningHW/ML_HW4_Dataset/releases/latest/download/Dataset.tar.gz.partad\r\n",
      "Resolving github.com (github.com)... 140.82.112.4\r\n",
      "Connecting to github.com (github.com)|140.82.112.4|:443... connected.\r\n",
      "HTTP request sent, awaiting response... 404 Not Found\r\n",
      "2022-11-15 11:07:50 ERROR 404: Not Found.\r\n",
      "\r\n",
      "cat: 'Dataset.tar.gz.part*': No such file or directory\r\n",
      "\r\n",
      "gzip: stdin: unexpected end of file\r\n",
      "tar: Child returned status 1\r\n",
      "tar: Error is not recoverable: exiting now\r\n"
     ]
    }
   ],
   "source": [
    "!wget https://github.com/MachineLearningHW/ML_HW4_Dataset/releases/latest/download/Dataset.tar.gz.partaa\n",
    "!wget https://github.com/MachineLearningHW/ML_HW4_Dataset/releases/latest/download/Dataset.tar.gz.partab\n",
    "!wget https://github.com/MachineLearningHW/ML_HW4_Dataset/releases/latest/download/Dataset.tar.gz.partac\n",
    "!wget https://github.com/MachineLearningHW/ML_HW4_Dataset/releases/latest/download/Dataset.tar.gz.partad\n",
    "\n",
    "!cat Dataset.tar.gz.part* > Dataset.tar.gz\n",
    "\n",
    "# unzip the file\n",
    "!tar zxvf Dataset.tar.gz"
   ]
  },
  {
   "cell_type": "markdown",
   "id": "dc53d18d",
   "metadata": {
    "id": "ENWVAUDVJtVY",
    "papermill": {
     "duration": 0.006475,
     "end_time": "2022-11-15T11:07:52.578871",
     "exception": false,
     "start_time": "2022-11-15T11:07:52.572396",
     "status": "completed"
    },
    "tags": []
   },
   "source": [
    "## Fix Random Seed"
   ]
  },
  {
   "cell_type": "code",
   "execution_count": 2,
   "id": "2c202c40",
   "metadata": {
    "execution": {
     "iopub.execute_input": "2022-11-15T11:07:52.593307Z",
     "iopub.status.busy": "2022-11-15T11:07:52.592948Z",
     "iopub.status.idle": "2022-11-15T11:07:54.404891Z",
     "shell.execute_reply": "2022-11-15T11:07:54.403848Z"
    },
    "id": "E6burzCXIyuA",
    "papermill": {
     "duration": 1.822261,
     "end_time": "2022-11-15T11:07:54.407420",
     "exception": false,
     "start_time": "2022-11-15T11:07:52.585159",
     "status": "completed"
    },
    "tags": []
   },
   "outputs": [],
   "source": [
    "import numpy as np\n",
    "import torch\n",
    "import random\n",
    "\n",
    "def set_seed(seed):\n",
    "    np.random.seed(seed)\n",
    "    random.seed(seed)\n",
    "    torch.manual_seed(seed)\n",
    "    if torch.cuda.is_available():\n",
    "        torch.cuda.manual_seed(seed)\n",
    "        torch.cuda.manual_seed_all(seed)\n",
    "    torch.backends.cudnn.benchmark = False\n",
    "    torch.backends.cudnn.deterministic = True\n",
    "\n",
    "set_seed(87)"
   ]
  },
  {
   "cell_type": "markdown",
   "id": "2bbdb32d",
   "metadata": {
    "id": "k7dVbxW2LASN",
    "papermill": {
     "duration": 0.005872,
     "end_time": "2022-11-15T11:07:54.419754",
     "exception": false,
     "start_time": "2022-11-15T11:07:54.413882",
     "status": "completed"
    },
    "tags": []
   },
   "source": [
    "# Data\n",
    "\n",
    "## Dataset\n",
    "- Original dataset is [Voxceleb2](https://www.robots.ox.ac.uk/~vgg/data/voxceleb/vox2.html).\n",
    "- The [license](https://creativecommons.org/licenses/by/4.0/) and [complete version](https://www.robots.ox.ac.uk/~vgg/data/voxceleb/files/license.txt) of Voxceleb2.\n",
    "- We randomly select 600 speakers from Voxceleb2.\n",
    "- Then preprocess the raw waveforms into mel-spectrograms.\n",
    "\n",
    "- Args:\n",
    "  - data_dir: The path to the data directory.\n",
    "  - metadata_path: The path to the metadata.\n",
    "  - segment_len: The length of audio segment for training. \n",
    "- The architecture of data directory \\\\\n",
    "  - data directory \\\\\n",
    "  |---- metadata.json \\\\\n",
    "  |---- testdata.json \\\\\n",
    "  |---- mapping.json \\\\\n",
    "  |---- uttr-{random string}.pt \\\\\n",
    "\n",
    "- The information in metadata\n",
    "  - \"n_mels\": The dimention of mel-spectrogram.\n",
    "  - \"speakers\": A dictionary. \n",
    "    - Key: speaker ids.\n",
    "    - value: \"feature_path\" and \"mel_len\"\n",
    "\n",
    "\n",
    "For efficiency, we segment the mel-spectrograms into segments in the traing step."
   ]
  },
  {
   "cell_type": "code",
   "execution_count": 3,
   "id": "d064d99a",
   "metadata": {
    "execution": {
     "iopub.execute_input": "2022-11-15T11:07:54.433747Z",
     "iopub.status.busy": "2022-11-15T11:07:54.433240Z",
     "iopub.status.idle": "2022-11-15T11:07:54.445457Z",
     "shell.execute_reply": "2022-11-15T11:07:54.444428Z"
    },
    "id": "KpuGxl4CI2pr",
    "papermill": {
     "duration": 0.0222,
     "end_time": "2022-11-15T11:07:54.448057",
     "exception": false,
     "start_time": "2022-11-15T11:07:54.425857",
     "status": "completed"
    },
    "tags": []
   },
   "outputs": [],
   "source": [
    "import os\n",
    "import json\n",
    "import torch\n",
    "import random\n",
    "import numpy as np\n",
    "from pathlib import Path\n",
    "from torch.utils.data import Dataset\n",
    "from torch.nn.utils.rnn import pad_sequence\n",
    " \n",
    " \n",
    "class myDataset(Dataset):\n",
    "\tdef __init__(self, data_dir, segment_len=448):\n",
    "\t\tself.data_dir = data_dir\n",
    "\t\tself.segment_len = segment_len\n",
    "\t\n",
    "\t\t# Load the mapping from speaker neme to their corresponding id. \n",
    "\t\tmapping_path = Path(data_dir) / \"mapping.json\"\n",
    "\t\tmapping = json.load(mapping_path.open())\n",
    "\t\tself.speaker2id = mapping[\"speaker2id\"]\n",
    "\t\n",
    "\t\t# Load metadata of training data.\n",
    "\t\tmetadata_path = Path(data_dir) / \"metadata.json\"\n",
    "\t\tmetadata = json.load(open(metadata_path))[\"speakers\"]\n",
    "\t\n",
    "\t\t# Get the total number of speaker.\n",
    "\t\tself.speaker_num = len(metadata.keys())\n",
    "\t\tself.data = []\n",
    "\t\tself.len_speach = []\n",
    "\t\tfor speaker in metadata.keys():\n",
    "\t\t\tfor utterances in metadata[speaker]:\n",
    "\t\t\t\tself.data.append([utterances[\"feature_path\"], self.speaker2id[speaker]])\n",
    "\t\t\t\tself.len_speach.append(int(utterances[\"mel_len\"]))         \n",
    "\t\tself.speak_len_array = np.array(self.len_speach)\n",
    "\t\tprint(\"max len:\", self.speak_len_array.min())\n",
    "\t\tprint(\"min_len:\", self.speak_len_array.max())\n",
    "\t\tprint(\"average_len:\", self.speak_len_array.mean())\n",
    "        \n",
    "        \n",
    "                                    \n",
    " \n",
    "\tdef __len__(self):\n",
    "\t\treturn len(self.data)\n",
    " \n",
    "\tdef __getitem__(self, index):\n",
    "\t\tfeat_path, speaker = self.data[index]\n",
    "\t\t# Load preprocessed mel-spectrogram.\n",
    "\t\tmel = torch.load(os.path.join(self.data_dir, feat_path))\n",
    "\n",
    "\t\t# Segmemt mel-spectrogram into \"segment_len\" frames.\n",
    "\t\tif len(mel) > self.segment_len:\n",
    "\t\t\t# Randomly get the starting point of the segment.\n",
    "\t\t\tstart = random.randint(0, len(mel) - self.segment_len)\n",
    "\t\t\t# Get a segment with \"segment_len\" frames.\n",
    "\t\t\tmel = torch.FloatTensor(mel[start:start+self.segment_len])\n",
    "\t\telse:\n",
    "\t\t\tmel = torch.FloatTensor(mel)\n",
    "\t\t# Turn the speaker id into long for computing loss later.\n",
    "\t\tspeaker = torch.FloatTensor([speaker]).long()\n",
    "\t\treturn mel, speaker\n",
    " \n",
    "\tdef get_speaker_number(self):\n",
    "\t\treturn self.speaker_num"
   ]
  },
  {
   "cell_type": "markdown",
   "id": "f00cc88a",
   "metadata": {
    "id": "668hverTMlGN",
    "papermill": {
     "duration": 0.005805,
     "end_time": "2022-11-15T11:07:54.461739",
     "exception": false,
     "start_time": "2022-11-15T11:07:54.455934",
     "status": "completed"
    },
    "tags": []
   },
   "source": [
    "## Dataloader\n",
    "- Split dataset into training dataset(90%) and validation dataset(10%).\n",
    "- Create dataloader to iterate the data."
   ]
  },
  {
   "cell_type": "code",
   "execution_count": 4,
   "id": "f02842d2",
   "metadata": {
    "execution": {
     "iopub.execute_input": "2022-11-15T11:07:54.474751Z",
     "iopub.status.busy": "2022-11-15T11:07:54.474462Z",
     "iopub.status.idle": "2022-11-15T11:07:54.483375Z",
     "shell.execute_reply": "2022-11-15T11:07:54.482552Z"
    },
    "id": "B7c2gZYoJDRS",
    "papermill": {
     "duration": 0.017757,
     "end_time": "2022-11-15T11:07:54.485383",
     "exception": false,
     "start_time": "2022-11-15T11:07:54.467626",
     "status": "completed"
    },
    "tags": []
   },
   "outputs": [],
   "source": [
    "import torch\n",
    "from torch.utils.data import DataLoader, random_split\n",
    "from torch.nn.utils.rnn import pad_sequence\n",
    "\n",
    "\n",
    "def collate_batch(batch):\n",
    "\t# Process features within a batch.\n",
    "\t\"\"\"Collate a batch of data.\"\"\"\n",
    "\tmel, speaker = zip(*batch)\n",
    "\t# Because we train the model batch by batch, we need to pad the features in the same batch to make their lengths the same.\n",
    "\tmel = pad_sequence(mel, batch_first=True, padding_value=-20)    # pad log 10^(-20) which is very small value.\n",
    "\t# mel: (batch size, length, 40)\n",
    "\treturn mel, torch.FloatTensor(speaker).long()\n",
    "\n",
    "\n",
    "def get_dataloader(data_dir, batch_size, n_workers):\n",
    "\t\"\"\"Generate dataloader\"\"\"\n",
    "\tdataset = myDataset(data_dir)\n",
    "\tspeaker_num = dataset.get_speaker_number()\n",
    "\t# Split dataset into training dataset and validation dataset\n",
    "\ttrainlen = int(0.9 * len(dataset))\n",
    "\tlengths = [trainlen, len(dataset) - trainlen]\n",
    "\ttrainset, validset = random_split(dataset, lengths)\n",
    "\n",
    "\ttrain_loader = DataLoader(\n",
    "\t\ttrainset,\n",
    "\t\tbatch_size=batch_size,\n",
    "\t\tshuffle=True,\n",
    "\t\tdrop_last=True,\n",
    "\t\tnum_workers=n_workers,\n",
    "\t\tpin_memory=True,\n",
    "\t\tcollate_fn=collate_batch,\n",
    "\t)\n",
    "\tvalid_loader = DataLoader(\n",
    "\t\tvalidset,\n",
    "\t\tbatch_size=batch_size,\n",
    "\t\tnum_workers=n_workers,\n",
    "\t\tdrop_last=True,\n",
    "\t\tpin_memory=True,\n",
    "\t\tcollate_fn=collate_batch,\n",
    "\t)\n",
    "\n",
    "\treturn train_loader, valid_loader, speaker_num"
   ]
  },
  {
   "cell_type": "markdown",
   "id": "8be88f72",
   "metadata": {
    "id": "5FOSZYxrMqhc",
    "papermill": {
     "duration": 0.005833,
     "end_time": "2022-11-15T11:07:54.497089",
     "exception": false,
     "start_time": "2022-11-15T11:07:54.491256",
     "status": "completed"
    },
    "tags": []
   },
   "source": [
    "# Model\n",
    "- TransformerEncoderLayer:\n",
    "  - Base transformer encoder layer in [Attention Is All You Need](https://arxiv.org/abs/1706.03762)\n",
    "  - Parameters:\n",
    "    - d_model: the number of expected features of the input (required).\n",
    "\n",
    "    - nhead: the number of heads of the multiheadattention models (required).\n",
    "\n",
    "    - dim_feedforward: the dimension of the feedforward network model (default=2048).\n",
    "\n",
    "    - dropout: the dropout value (default=0.1).\n",
    "\n",
    "    - activation: the activation function of intermediate layer, relu or gelu (default=relu).\n",
    "\n",
    "- TransformerEncoder:\n",
    "  - TransformerEncoder is a stack of N transformer encoder layers\n",
    "  - Parameters:\n",
    "    - encoder_layer: an instance of the TransformerEncoderLayer() class (required).\n",
    "\n",
    "    - num_layers: the number of sub-encoder-layers in the encoder (required).\n",
    "\n",
    "    - norm: the layer normalization component (optional)."
   ]
  },
  {
   "cell_type": "code",
   "execution_count": 5,
   "id": "a0bccae3",
   "metadata": {
    "execution": {
     "iopub.execute_input": "2022-11-15T11:07:54.509944Z",
     "iopub.status.busy": "2022-11-15T11:07:54.509695Z",
     "iopub.status.idle": "2022-11-15T11:08:06.456562Z",
     "shell.execute_reply": "2022-11-15T11:08:06.455261Z"
    },
    "papermill": {
     "duration": 11.956338,
     "end_time": "2022-11-15T11:08:06.459317",
     "exception": false,
     "start_time": "2022-11-15T11:07:54.502979",
     "status": "completed"
    },
    "tags": []
   },
   "outputs": [
    {
     "name": "stdout",
     "output_type": "stream",
     "text": [
      "Collecting conformer\r\n",
      "  Downloading conformer-0.2.5-py3-none-any.whl (4.1 kB)\r\n",
      "Collecting einops\r\n",
      "  Downloading einops-0.6.0-py3-none-any.whl (41 kB)\r\n",
      "\u001b[2K     \u001b[90m━━━━━━━━━━━━━━━━━━━━━━━━━━━━━━━━━━━━━━━\u001b[0m \u001b[32m41.6/41.6 kB\u001b[0m \u001b[31m320.1 kB/s\u001b[0m eta \u001b[36m0:00:00\u001b[0m\r\n",
      "\u001b[?25hRequirement already satisfied: torch in /opt/conda/lib/python3.7/site-packages (from conformer) (1.11.0)\r\n",
      "Requirement already satisfied: typing-extensions in /opt/conda/lib/python3.7/site-packages (from torch->conformer) (4.3.0)\r\n",
      "Installing collected packages: einops, conformer\r\n",
      "Successfully installed conformer-0.2.5 einops-0.6.0\r\n",
      "\u001b[33mWARNING: Running pip as the 'root' user can result in broken permissions and conflicting behaviour with the system package manager. It is recommended to use a virtual environment instead: https://pip.pypa.io/warnings/venv\u001b[0m\u001b[33m\r\n",
      "\u001b[0m"
     ]
    }
   ],
   "source": [
    "!pip install conformer"
   ]
  },
  {
   "cell_type": "code",
   "execution_count": 6,
   "id": "fa5a97a0",
   "metadata": {
    "execution": {
     "iopub.execute_input": "2022-11-15T11:08:06.476414Z",
     "iopub.status.busy": "2022-11-15T11:08:06.475643Z",
     "iopub.status.idle": "2022-11-15T11:08:06.501437Z",
     "shell.execute_reply": "2022-11-15T11:08:06.500560Z"
    },
    "id": "iXZ5B0EKJGs8",
    "papermill": {
     "duration": 0.037717,
     "end_time": "2022-11-15T11:08:06.503845",
     "exception": false,
     "start_time": "2022-11-15T11:08:06.466128",
     "status": "completed"
    },
    "tags": []
   },
   "outputs": [],
   "source": [
    "import torch\n",
    "import torch.nn as nn\n",
    "import torch.nn.functional as F\n",
    "from conformer import ConformerBlock\n",
    "\n",
    "class self_Attentive_pooling(nn.Module):\n",
    "    def __init__(self, dim):\n",
    "        super(self_Attentive_pooling, self).__init__()\n",
    "        self.sap_linear = nn.Linear(dim, dim)\n",
    "        self.attention = nn.Parameter(torch.FloatTensor(dim,1))\n",
    "        torch.nn.init.normal_(self.attention, std=.02)\n",
    "\n",
    "    def forward(self, x):\n",
    "        h=torch.tanh(self.sap_linear(x))\n",
    "        w=torch.matmul(h, self.attention).squeeze(dim=2)\n",
    "        w=F.softmax(w, dim=1).view(x.size(0), x.size(1), 1)\n",
    "        x=torch.sum(x * w, dim=1)\n",
    "        return x\n",
    "\n",
    "class AMSoftmax(nn.Module):\n",
    "    def __init__(self, in_feats, n_classes, m=0.3, s=15, annealing=False):\n",
    "        super(AMSoftmax, self).__init__()\n",
    "        self.linear = nn.Linear(in_feats, n_classes, bias=False)\n",
    "        self.m = m\n",
    "        self.s = s\n",
    "\n",
    "    def _am_logsumexp(self, logits):\n",
    "        max_x = torch.max(logits, dim=-1)[0].unsqueeze(-1)\n",
    "        term1 = (self.s*(logits - (max_x + self.m))).exp()\n",
    "        term2 = (self.s * (logits - max_x)).exp().sum(-1).unsqueeze(-1) - (self.s*(logits-max_x)).exp()\n",
    "        return self.s * max_x + (term2 + term1).log()\n",
    "\n",
    "    def forward(self, *inputs):\n",
    "        x_vector = F.normalize(inputs[0], p=2, dim=-1)\n",
    "        self.linear.weight.data = F.normalize(self.linear.weight.data, p=2, dim=-1)\n",
    "        logits = self.linear(x_vector)\n",
    "        scaled_logits = (logits-self.m)*self.s\n",
    "        return scaled_logits - self._am_logsumexp(logits)\n",
    "\n",
    "class Classifier(nn.Module):\n",
    "\tdef __init__(self, d_model=224, n_spks=600, dropout=0.3):\n",
    "\t\tsuper().__init__()\n",
    "\t\t# Project the dimension of features from that of input into d_model.\n",
    "\t\tself.prenet = nn.Linear(40, d_model)\n",
    "\t\t# TODO:\n",
    "\t\t#   Change Transformer to Conformer.\n",
    "\t\t#   https://arxiv.org/abs/2005.08100\n",
    "# \t\tself.encoder_layer = nn.TransformerEncoderLayer(\n",
    "# \t\t\td_model=d_model, dim_feedforward=1024, nhead=2, dropout=dropout\n",
    "# \t\t)\n",
    "# \t\tself.encoder = nn.TransformerEncoder(self.encoder_layer, num_layers=3)\n",
    "\t\tself.blocks = nn.ModuleList([\n",
    "            ConformerBlock(\n",
    "                dim=d_model,\n",
    "                dim_head=64,\n",
    "                heads=8,\n",
    "                ff_mult=4,\n",
    "                conv_expansion_factor=2,\n",
    "                conv_kernel_size=15,\n",
    "                attn_dropout=dropout,\n",
    "                ff_dropout=dropout,\n",
    "                conv_dropout=dropout\n",
    "            )\n",
    "            for i in range(6)])\n",
    "\t\t# Project the the dimension of features from d_model into speaker nums.\n",
    "\t\tself.sap = self_Attentive_pooling(d_model)\n",
    "\t\tself.pred_layer = AMSoftmax(d_model, n_spks)\n",
    "\n",
    "\tdef forward(self, mels):\n",
    "\t\t\"\"\"\n",
    "\t\targs:\n",
    "\t\t\tmels: (batch size, length, 40)\n",
    "\t\treturn:\n",
    "\t\t\tout: (batch size, n_spks)\n",
    "\t\t\"\"\"\n",
    "\t\t# out: (batch size, length, d_model)\n",
    "# \t\tprint(\"shape:\", mels.shape)\n",
    "\t\tout = self.prenet(mels)\n",
    "\t\t# out: (length, batch size, d_model)\n",
    "# \t\tout = out.permute(1, 0, 2)\n",
    "\t\t# The encoder layer expect features in the shape of (length, batch size, d_model).\n",
    "# \t\tout = self.encoder(out)\n",
    "\t\t# out: (batch size, length, d_model)\n",
    "# \t\tout = out.transpose(0, 1)\n",
    "\t\t# mean pooling\n",
    "# \t\tstats = self.sap(out)\n",
    "\t\tfor blk in self.blocks:\n",
    "\t\t\tout = blk(out)\n",
    "\t\tstats = self.sap(out)\n",
    "\t\t# out: (batch, n_spks)\n",
    "\t\tout = self.pred_layer(stats)\n",
    "\t\treturn out"
   ]
  },
  {
   "cell_type": "markdown",
   "id": "f49dff06",
   "metadata": {
    "id": "W7yX8JinM5Ly",
    "papermill": {
     "duration": 0.006289,
     "end_time": "2022-11-15T11:08:06.516767",
     "exception": false,
     "start_time": "2022-11-15T11:08:06.510478",
     "status": "completed"
    },
    "tags": []
   },
   "source": [
    "# Learning rate schedule\n",
    "- For transformer architecture, the design of learning rate schedule is different from that of CNN.\n",
    "- Previous works show that the warmup of learning rate is useful for training models with transformer architectures.\n",
    "- The warmup schedule\n",
    "  - Set learning rate to 0 in the beginning.\n",
    "  - The learning rate increases linearly from 0 to initial learning rate during warmup period."
   ]
  },
  {
   "cell_type": "code",
   "execution_count": 7,
   "id": "1fbb7d8a",
   "metadata": {
    "execution": {
     "iopub.execute_input": "2022-11-15T11:08:06.532603Z",
     "iopub.status.busy": "2022-11-15T11:08:06.531195Z",
     "iopub.status.idle": "2022-11-15T11:08:06.540359Z",
     "shell.execute_reply": "2022-11-15T11:08:06.539464Z"
    },
    "id": "ykt0N1nVJJi2",
    "papermill": {
     "duration": 0.019207,
     "end_time": "2022-11-15T11:08:06.542571",
     "exception": false,
     "start_time": "2022-11-15T11:08:06.523364",
     "status": "completed"
    },
    "tags": []
   },
   "outputs": [],
   "source": [
    "import math\n",
    "\n",
    "import torch\n",
    "from torch.optim import Optimizer\n",
    "from torch.optim.lr_scheduler import LambdaLR\n",
    "\n",
    "\n",
    "def get_cosine_schedule_with_warmup(\n",
    "\toptimizer: Optimizer,\n",
    "\tnum_warmup_steps: int,\n",
    "\tnum_training_steps: int,\n",
    "\tnum_cycles: float = 0.5,\n",
    "\tlast_epoch: int = -1,\n",
    "):\n",
    "\t\"\"\"\n",
    "\tCreate a schedule with a learning rate that decreases following the values of the cosine function between the\n",
    "\tinitial lr set in the optimizer to 0, after a warmup period during which it increases linearly between 0 and the\n",
    "\tinitial lr set in the optimizer.\n",
    "\n",
    "\tArgs:\n",
    "\t\toptimizer (:class:`~torch.optim.Optimizer`):\n",
    "\t\tThe optimizer for which to schedule the learning rate.\n",
    "\t\tnum_warmup_steps (:obj:`int`):\n",
    "\t\tThe number of steps for the warmup phase.\n",
    "\t\tnum_training_steps (:obj:`int`):\n",
    "\t\tThe total number of training steps.\n",
    "\t\tnum_cycles (:obj:`float`, `optional`, defaults to 0.5):\n",
    "\t\tThe number of waves in the cosine schedule (the defaults is to just decrease from the max value to 0\n",
    "\t\tfollowing a half-cosine).\n",
    "\t\tlast_epoch (:obj:`int`, `optional`, defaults to -1):\n",
    "\t\tThe index of the last epoch when resuming training.\n",
    "\n",
    "\tReturn:\n",
    "\t\t:obj:`torch.optim.lr_scheduler.LambdaLR` with the appropriate schedule.\n",
    "\t\"\"\"\n",
    "\tdef lr_lambda(current_step):\n",
    "\t\t# Warmup\n",
    "\t\tif current_step < num_warmup_steps:\n",
    "\t\t\treturn float(current_step) / float(max(1, num_warmup_steps))\n",
    "\t\t# decadence\n",
    "\t\tprogress = float(current_step - num_warmup_steps) / float(\n",
    "\t\t\tmax(1, num_training_steps - num_warmup_steps)\n",
    "\t\t)\n",
    "\t\treturn max(\n",
    "\t\t\t0.0, 0.5 * (1.0 + math.cos(math.pi * float(num_cycles) * 2.0 * progress))\n",
    "\t\t)\n",
    "\n",
    "\treturn LambdaLR(optimizer, lr_lambda, last_epoch)"
   ]
  },
  {
   "cell_type": "markdown",
   "id": "0dd9d7b0",
   "metadata": {
    "id": "-LN2XkteM_uH",
    "papermill": {
     "duration": 0.006377,
     "end_time": "2022-11-15T11:08:06.555679",
     "exception": false,
     "start_time": "2022-11-15T11:08:06.549302",
     "status": "completed"
    },
    "tags": []
   },
   "source": [
    "# Model Function\n",
    "- Model forward function."
   ]
  },
  {
   "cell_type": "code",
   "execution_count": 8,
   "id": "13e18eee",
   "metadata": {
    "execution": {
     "iopub.execute_input": "2022-11-15T11:08:06.570940Z",
     "iopub.status.busy": "2022-11-15T11:08:06.569947Z",
     "iopub.status.idle": "2022-11-15T11:08:06.576665Z",
     "shell.execute_reply": "2022-11-15T11:08:06.575754Z"
    },
    "id": "N-rr8529JMz0",
    "papermill": {
     "duration": 0.016667,
     "end_time": "2022-11-15T11:08:06.578847",
     "exception": false,
     "start_time": "2022-11-15T11:08:06.562180",
     "status": "completed"
    },
    "tags": []
   },
   "outputs": [],
   "source": [
    "import torch\n",
    "\n",
    "\n",
    "def model_fn(batch, model, criterion, device):\n",
    "\t\"\"\"Forward a batch through the model.\"\"\"\n",
    "\n",
    "\tmels, labels = batch\n",
    "\tmels = mels.to(device)\n",
    "\tlabels = labels.to(device)\n",
    "\n",
    "\touts = model(mels)\n",
    "\n",
    "\tloss = criterion(outs, labels)\n",
    "\n",
    "\t# Get the speaker id with highest probability.\n",
    "\tpreds = outs.argmax(1)\n",
    "\t# Compute accuracy.\n",
    "\taccuracy = torch.mean((preds == labels).float())\n",
    "\n",
    "\treturn loss, accuracy"
   ]
  },
  {
   "cell_type": "markdown",
   "id": "026f8604",
   "metadata": {
    "id": "cwM_xyOtNCI2",
    "papermill": {
     "duration": 0.006378,
     "end_time": "2022-11-15T11:08:06.591607",
     "exception": false,
     "start_time": "2022-11-15T11:08:06.585229",
     "status": "completed"
    },
    "tags": []
   },
   "source": [
    "# Validate\n",
    "- Calculate accuracy of the validation set."
   ]
  },
  {
   "cell_type": "code",
   "execution_count": 9,
   "id": "dbce4a58",
   "metadata": {
    "execution": {
     "iopub.execute_input": "2022-11-15T11:08:06.606709Z",
     "iopub.status.busy": "2022-11-15T11:08:06.605691Z",
     "iopub.status.idle": "2022-11-15T11:08:06.613733Z",
     "shell.execute_reply": "2022-11-15T11:08:06.612810Z"
    },
    "id": "YAiv6kpdJRTJ",
    "papermill": {
     "duration": 0.017695,
     "end_time": "2022-11-15T11:08:06.615838",
     "exception": false,
     "start_time": "2022-11-15T11:08:06.598143",
     "status": "completed"
    },
    "tags": []
   },
   "outputs": [],
   "source": [
    "from tqdm import tqdm\n",
    "import torch\n",
    "\n",
    "\n",
    "def valid(dataloader, model, criterion, device): \n",
    "\t\"\"\"Validate on validation set.\"\"\"\n",
    "\n",
    "\tmodel.eval()\n",
    "\trunning_loss = 0.0\n",
    "\trunning_accuracy = 0.0\n",
    "\tpbar = tqdm(total=len(dataloader.dataset), ncols=0, desc=\"Valid\", unit=\" uttr\")\n",
    "\n",
    "\tfor i, batch in enumerate(dataloader):\n",
    "\t\twith torch.no_grad():\n",
    "\t\t\tloss, accuracy = model_fn(batch, model, criterion, device)\n",
    "\t\t\trunning_loss += loss.item()\n",
    "\t\t\trunning_accuracy += accuracy.item()\n",
    "\n",
    "\t\tpbar.update(dataloader.batch_size)\n",
    "\t\tpbar.set_postfix(\n",
    "\t\t\tloss=f\"{running_loss / (i+1):.2f}\",\n",
    "\t\t\taccuracy=f\"{running_accuracy / (i+1):.2f}\",\n",
    "\t\t)\n",
    "\n",
    "\tpbar.close()\n",
    "\tmodel.train()\n",
    "\n",
    "\treturn running_accuracy / len(dataloader)"
   ]
  },
  {
   "cell_type": "markdown",
   "id": "5627abdf",
   "metadata": {
    "id": "g6ne9G-eNEdG",
    "papermill": {
     "duration": 0.006224,
     "end_time": "2022-11-15T11:08:06.628864",
     "exception": false,
     "start_time": "2022-11-15T11:08:06.622640",
     "status": "completed"
    },
    "tags": []
   },
   "source": [
    "# Main function"
   ]
  },
  {
   "cell_type": "code",
   "execution_count": 10,
   "id": "5ec2668a",
   "metadata": {
    "execution": {
     "iopub.execute_input": "2022-11-15T11:08:06.643526Z",
     "iopub.status.busy": "2022-11-15T11:08:06.643199Z",
     "iopub.status.idle": "2022-11-15T16:10:20.750920Z",
     "shell.execute_reply": "2022-11-15T16:10:20.749671Z"
    },
    "id": "Usv9s-CuJSG7",
    "outputId": "0e4eb5c2-901f-419e-b917-61860e81c8ae",
    "papermill": {
     "duration": 18134.119889,
     "end_time": "2022-11-15T16:10:20.755235",
     "exception": false,
     "start_time": "2022-11-15T11:08:06.635346",
     "status": "completed"
    },
    "tags": []
   },
   "outputs": [
    {
     "name": "stdout",
     "output_type": "stream",
     "text": [
      "[Info]: Use cuda now!\n",
      "max len: 91\n",
      "min_len: 7193\n",
      "average_len: 658.0912187202202\n"
     ]
    },
    {
     "name": "stderr",
     "output_type": "stream",
     "text": [
      "/opt/conda/lib/python3.7/site-packages/torch/utils/data/dataloader.py:490: UserWarning: This DataLoader will create 8 worker processes in total. Our suggested max number of worker in current system is 2, which is smaller than what this DataLoader is going to create. Please be aware that excessive worker creation might get DataLoader running slow or even freeze, lower the worker number to avoid potential slowness/freeze if necessary.\n",
      "  cpuset_checked))\n"
     ]
    },
    {
     "name": "stdout",
     "output_type": "stream",
     "text": [
      "[Info]: Finish loading data!\n",
      "[Info]: Finish creating model!\n"
     ]
    },
    {
     "name": "stderr",
     "output_type": "stream",
     "text": [
      "Train: 100% 2000/2000 [23:53<00:00,  1.40 step/s, accuracy=0.64, loss=1.29, step=2000]\n",
      "Valid:  99% 5632/5667 [00:21<00:00, 260.56 uttr/s, accuracy=0.43, loss=2.43]\n",
      "Train: 100% 2000/2000 [23:47<00:00,  1.40 step/s, accuracy=0.89, loss=0.44, step=4000]\n",
      "Valid:  99% 5632/5667 [00:21<00:00, 266.37 uttr/s, accuracy=0.70, loss=1.24]\n",
      "Train: 100% 2000/2000 [23:47<00:00,  1.40 step/s, accuracy=0.86, loss=0.48, step=6000]\n",
      "Valid:  99% 5632/5667 [00:21<00:00, 264.52 uttr/s, accuracy=0.84, loss=0.67]\n",
      "Train: 100% 2000/2000 [24:10<00:00,  1.38 step/s, accuracy=0.98, loss=0.15, step=8000]\n",
      "Valid:  99% 5632/5667 [00:21<00:00, 267.65 uttr/s, accuracy=0.88, loss=0.50]\n",
      "Train: 100% 2000/2000 [23:48<00:00,  1.40 step/s, accuracy=0.98, loss=0.10, step=1e+4]\n",
      "Valid:  99% 5632/5667 [00:20<00:00, 268.74 uttr/s, accuracy=0.89, loss=0.45]\n",
      "Train:   0% 0/2000 [00:00<?, ? step/s]"
     ]
    },
    {
     "name": "stdout",
     "output_type": "stream",
     "text": [
      "Step 10000, best model saved. (accuracy=0.8912)\n"
     ]
    },
    {
     "name": "stderr",
     "output_type": "stream",
     "text": [
      "Train: 100% 2000/2000 [23:49<00:00,  1.40 step/s, accuracy=0.95, loss=0.21, step=12000]\n",
      "Valid:  99% 5632/5667 [00:20<00:00, 268.71 uttr/s, accuracy=0.91, loss=0.38]\n",
      "Train: 100% 2000/2000 [23:48<00:00,  1.40 step/s, accuracy=1.00, loss=0.03, step=14000]\n",
      "Valid:  99% 5632/5667 [00:20<00:00, 269.24 uttr/s, accuracy=0.92, loss=0.33]\n",
      "Train: 100% 2000/2000 [23:47<00:00,  1.40 step/s, accuracy=1.00, loss=0.01, step=16000]\n",
      "Valid:  99% 5632/5667 [00:21<00:00, 264.59 uttr/s, accuracy=0.94, loss=0.26]\n",
      "Train: 100% 2000/2000 [23:46<00:00,  1.40 step/s, accuracy=1.00, loss=0.00, step=18000]\n",
      "Valid:  99% 5632/5667 [00:21<00:00, 266.67 uttr/s, accuracy=0.95, loss=0.22]\n",
      "Train: 100% 2000/2000 [23:47<00:00,  1.40 step/s, accuracy=1.00, loss=0.00, step=2e+4]\n",
      "Valid:  99% 5632/5667 [00:21<00:00, 267.19 uttr/s, accuracy=0.95, loss=0.22]\n",
      "Train:   0% 0/2000 [00:00<?, ? step/s]"
     ]
    },
    {
     "name": "stdout",
     "output_type": "stream",
     "text": [
      "Step 20000, best model saved. (accuracy=0.9473)\n"
     ]
    },
    {
     "name": "stderr",
     "output_type": "stream",
     "text": [
      "Train: 100% 2000/2000 [23:47<00:00,  1.40 step/s, accuracy=1.00, loss=0.00, step=22000]\n",
      "Valid:  99% 5632/5667 [00:20<00:00, 269.07 uttr/s, accuracy=0.95, loss=0.20]\n",
      "Train: 100% 2000/2000 [23:48<00:00,  1.40 step/s, accuracy=1.00, loss=0.00, step=24000]\n",
      "Valid:  99% 5632/5667 [00:20<00:00, 268.74 uttr/s, accuracy=0.96, loss=0.19]\n",
      "Train:  50% 1000/2000 [11:53<11:53,  1.40 step/s, accuracy=1.00, loss=0.00, step=25000]\n"
     ]
    }
   ],
   "source": [
    "from tqdm import tqdm\n",
    "\n",
    "import torch\n",
    "import torch.nn as nn\n",
    "from torch.optim import AdamW\n",
    "from torch.utils.data import DataLoader, random_split\n",
    "\n",
    "\n",
    "def parse_args():\n",
    "\t\"\"\"arguments\"\"\"\n",
    "\tconfig = {\n",
    "\t\t\"data_dir\": \"../input/ml2022spring-hw4/Dataset\",\n",
    "\t\t\"save_path\": \"model.ckpt\",\n",
    "\t\t\"batch_size\": 64,\n",
    "\t\t\"n_workers\": 8,\n",
    "\t\t\"valid_steps\": 2000,\n",
    "\t\t\"warmup_steps\": 1000,\n",
    "\t\t\"save_steps\": 10000,\n",
    "\t\t\"total_steps\": 25000,\n",
    "\t}\n",
    "\n",
    "\treturn config\n",
    "\n",
    "\n",
    "def main(\n",
    "\tdata_dir,\n",
    "\tsave_path,\n",
    "\tbatch_size,\n",
    "\tn_workers,\n",
    "\tvalid_steps,\n",
    "\twarmup_steps,\n",
    "\ttotal_steps,\n",
    "\tsave_steps,\n",
    "):\n",
    "\t\"\"\"Main function.\"\"\"\n",
    "\tdevice = torch.device(\"cuda\" if torch.cuda.is_available() else \"cpu\")\n",
    "\tprint(f\"[Info]: Use {device} now!\")\n",
    "\n",
    "\ttrain_loader, valid_loader, speaker_num = get_dataloader(data_dir, batch_size, n_workers)\n",
    "\ttrain_iterator = iter(train_loader)\n",
    "\tprint(f\"[Info]: Finish loading data!\",flush = True)\n",
    "\n",
    "\tmodel = Classifier(n_spks=speaker_num).to(device)\n",
    "\tcriterion = nn.CrossEntropyLoss()\n",
    "# \tcriterion = AMSoftmax()\n",
    "\toptimizer = AdamW(model.parameters(), lr=1e-3)\n",
    "\tscheduler = get_cosine_schedule_with_warmup(optimizer, warmup_steps, total_steps)\n",
    "\tprint(f\"[Info]: Finish creating model!\",flush = True)\n",
    "\n",
    "\tbest_accuracy = -1.0\n",
    "\tbest_state_dict = None\n",
    "\n",
    "\tpbar = tqdm(total=valid_steps, ncols=0, desc=\"Train\", unit=\" step\")\n",
    "\n",
    "\tfor step in range(total_steps):\n",
    "\t\t# Get data\n",
    "\t\ttry:\n",
    "\t\t\tbatch = next(train_iterator)\n",
    "\t\texcept StopIteration:\n",
    "\t\t\ttrain_iterator = iter(train_loader)\n",
    "\t\t\tbatch = next(train_iterator)\n",
    "\n",
    "\t\tloss, accuracy = model_fn(batch, model, criterion, device)\n",
    "\t\tbatch_loss = loss.item()\n",
    "\t\tbatch_accuracy = accuracy.item()\n",
    "\n",
    "\t\t# Updata model\n",
    "\t\tloss.backward()\n",
    "\t\toptimizer.step()\n",
    "\t\tscheduler.step()\n",
    "\t\toptimizer.zero_grad()\n",
    "\n",
    "\t\t# Log\n",
    "\t\tpbar.update()\n",
    "\t\tpbar.set_postfix(\n",
    "\t\t\tloss=f\"{batch_loss:.2f}\",\n",
    "\t\t\taccuracy=f\"{batch_accuracy:.2f}\",\n",
    "\t\t\tstep=step + 1,\n",
    "\t\t)\n",
    "\n",
    "\t\t# Do validation\n",
    "\t\tif (step + 1) % valid_steps == 0:\n",
    "\t\t\tpbar.close()\n",
    "\n",
    "\t\t\tvalid_accuracy = valid(valid_loader, model, criterion, device)\n",
    "\n",
    "\t\t\t# keep the best model\n",
    "\t\t\tif valid_accuracy > best_accuracy:\n",
    "\t\t\t\tbest_accuracy = valid_accuracy\n",
    "\t\t\t\tbest_state_dict = model.state_dict()\n",
    "\n",
    "\t\t\tpbar = tqdm(total=valid_steps, ncols=0, desc=\"Train\", unit=\" step\")\n",
    "\n",
    "\t\t# Save the best model so far.\n",
    "\t\tif (step + 1) % save_steps == 0 and best_state_dict is not None:\n",
    "\t\t\ttorch.save(best_state_dict, save_path)\n",
    "\t\t\tpbar.write(f\"Step {step + 1}, best model saved. (accuracy={best_accuracy:.4f})\")\n",
    "\n",
    "\tpbar.close()\n",
    "\n",
    "\n",
    "if __name__ == \"__main__\":\n",
    "\tmain(**parse_args())"
   ]
  },
  {
   "cell_type": "markdown",
   "id": "a0b24dca",
   "metadata": {
    "id": "NLatBYAhNNMx",
    "papermill": {
     "duration": 2.958346,
     "end_time": "2022-11-15T16:10:26.609401",
     "exception": false,
     "start_time": "2022-11-15T16:10:23.651055",
     "status": "completed"
    },
    "tags": []
   },
   "source": [
    "# Inference\n",
    "\n",
    "## Dataset of inference"
   ]
  },
  {
   "cell_type": "code",
   "execution_count": 11,
   "id": "7baf48c5",
   "metadata": {
    "execution": {
     "iopub.execute_input": "2022-11-15T16:10:32.654050Z",
     "iopub.status.busy": "2022-11-15T16:10:32.653620Z",
     "iopub.status.idle": "2022-11-15T16:10:32.663553Z",
     "shell.execute_reply": "2022-11-15T16:10:32.662552Z"
    },
    "id": "efS4pCmAJXJH",
    "papermill": {
     "duration": 2.943961,
     "end_time": "2022-11-15T16:10:32.665669",
     "exception": false,
     "start_time": "2022-11-15T16:10:29.721708",
     "status": "completed"
    },
    "tags": []
   },
   "outputs": [],
   "source": [
    "import os\n",
    "import json\n",
    "import torch\n",
    "from pathlib import Path\n",
    "from torch.utils.data import Dataset\n",
    "\n",
    "\n",
    "class InferenceDataset(Dataset):\n",
    "\tdef __init__(self, data_dir):\n",
    "\t\ttestdata_path = Path(data_dir) / \"testdata.json\"\n",
    "\t\tmetadata = json.load(testdata_path.open())\n",
    "\t\tself.data_dir = data_dir\n",
    "\t\tself.data = metadata[\"utterances\"]\n",
    "\n",
    "\tdef __len__(self):\n",
    "\t\treturn len(self.data)\n",
    "\n",
    "\tdef __getitem__(self, index):\n",
    "\t\tutterance = self.data[index]\n",
    "\t\tfeat_path = utterance[\"feature_path\"]\n",
    "\t\tmel = torch.load(os.path.join(self.data_dir, feat_path))\n",
    "\n",
    "\t\treturn feat_path, mel\n",
    "\n",
    "\n",
    "def inference_collate_batch(batch):\n",
    "\t\"\"\"Collate a batch of data.\"\"\"\n",
    "\tfeat_paths, mels = zip(*batch)\n",
    "\n",
    "\treturn feat_paths, torch.stack(mels)"
   ]
  },
  {
   "cell_type": "markdown",
   "id": "a83ef398",
   "metadata": {
    "id": "tl0WnYwxNK_S",
    "papermill": {
     "duration": 3.126154,
     "end_time": "2022-11-15T16:10:38.655472",
     "exception": false,
     "start_time": "2022-11-15T16:10:35.529318",
     "status": "completed"
    },
    "tags": []
   },
   "source": [
    "## Main funcrion of Inference"
   ]
  },
  {
   "cell_type": "raw",
   "id": "6a857b1f",
   "metadata": {
    "papermill": {
     "duration": 2.873059,
     "end_time": "2022-11-15T16:10:44.875288",
     "exception": false,
     "start_time": "2022-11-15T16:10:42.002229",
     "status": "completed"
    },
    "tags": []
   },
   "source": []
  },
  {
   "cell_type": "code",
   "execution_count": 12,
   "id": "cf2bff67",
   "metadata": {
    "execution": {
     "iopub.execute_input": "2022-11-15T16:10:50.922588Z",
     "iopub.status.busy": "2022-11-15T16:10:50.922197Z",
     "iopub.status.idle": "2022-11-15T16:14:23.972994Z",
     "shell.execute_reply": "2022-11-15T16:14:23.971874Z"
    },
    "id": "i8SAbuXEJb2A",
    "papermill": {
     "duration": 216.162513,
     "end_time": "2022-11-15T16:14:23.975237",
     "exception": false,
     "start_time": "2022-11-15T16:10:47.812724",
     "status": "completed"
    },
    "tags": []
   },
   "outputs": [
    {
     "name": "stdout",
     "output_type": "stream",
     "text": [
      "[Info]: Use cuda now!\n",
      "[Info]: Finish loading data!\n",
      "[Info]: Finish creating model!\n"
     ]
    },
    {
     "data": {
      "application/vnd.jupyter.widget-view+json": {
       "model_id": "491dab589add4cc79d6c9b2121f26e38",
       "version_major": 2,
       "version_minor": 0
      },
      "text/plain": [
       "  0%|          | 0/8000 [00:00<?, ?it/s]"
      ]
     },
     "metadata": {},
     "output_type": "display_data"
    }
   ],
   "source": [
    "import json\n",
    "import csv\n",
    "from pathlib import Path\n",
    "from tqdm.notebook import tqdm\n",
    "\n",
    "import torch\n",
    "from torch.utils.data import DataLoader\n",
    "\n",
    "def parse_args():\n",
    "\t\"\"\"arguments\"\"\"\n",
    "\tconfig = {\n",
    "\t\t\"data_dir\": \"../input/ml2022spring-hw4/Dataset\",\n",
    "\t\t\"model_path\": \"./model.ckpt\",\n",
    "\t\t\"output_path\": \"./output.csv\",\n",
    "\t}\n",
    "\n",
    "\treturn config\n",
    "\n",
    "\n",
    "def main(\n",
    "\tdata_dir,\n",
    "\tmodel_path,\n",
    "\toutput_path,\n",
    "):\n",
    "\t\"\"\"Main function.\"\"\"\n",
    "\tdevice = torch.device(\"cuda\" if torch.cuda.is_available() else \"cpu\")\n",
    "\tprint(f\"[Info]: Use {device} now!\")\n",
    "\n",
    "\tmapping_path = Path(data_dir) / \"mapping.json\"\n",
    "\tmapping = json.load(mapping_path.open())\n",
    "\n",
    "\tdataset = InferenceDataset(data_dir)\n",
    "\tdataloader = DataLoader(\n",
    "\t\tdataset,\n",
    "\t\tbatch_size=1,\n",
    "\t\tshuffle=False,\n",
    "\t\tdrop_last=False,\n",
    "\t\tnum_workers=8,\n",
    "\t\tcollate_fn=inference_collate_batch,\n",
    "\t)\n",
    "\tprint(f\"[Info]: Finish loading data!\",flush = True)\n",
    "\n",
    "\tspeaker_num = len(mapping[\"id2speaker\"])\n",
    "\tmodel = Classifier(n_spks=speaker_num).to(device)\n",
    "\tmodel.load_state_dict(torch.load(model_path))\n",
    "\tmodel.eval()\n",
    "\tprint(f\"[Info]: Finish creating model!\",flush = True)\n",
    "\n",
    "\tresults = [[\"Id\", \"Category\"]]\n",
    "\tfor feat_paths, mels in tqdm(dataloader):\n",
    "\t\twith torch.no_grad():\n",
    "\t\t\tmels = mels.to(device)\n",
    "\t\t\touts = model(mels)\n",
    "\t\t\tpreds = outs.argmax(1).cpu().numpy()\n",
    "\t\t\tfor feat_path, pred in zip(feat_paths, preds):\n",
    "\t\t\t\tresults.append([feat_path, mapping[\"id2speaker\"][str(pred)]])\n",
    "\n",
    "\twith open(output_path, 'w', newline='') as csvfile:\n",
    "\t\twriter = csv.writer(csvfile)\n",
    "\t\twriter.writerows(results)\n",
    "\n",
    "\n",
    "if __name__ == \"__main__\":\n",
    "\tmain(**parse_args())"
   ]
  }
 ],
 "metadata": {
  "kernelspec": {
   "display_name": "Python 3",
   "language": "python",
   "name": "python3"
  },
  "language_info": {
   "codemirror_mode": {
    "name": "ipython",
    "version": 3
   },
   "file_extension": ".py",
   "mimetype": "text/x-python",
   "name": "python",
   "nbconvert_exporter": "python",
   "pygments_lexer": "ipython3",
   "version": "3.7.12"
  },
  "papermill": {
   "default_parameters": {},
   "duration": 18413.52319,
   "end_time": "2022-11-15T16:14:29.746130",
   "environment_variables": {},
   "exception": null,
   "input_path": "__notebook__.ipynb",
   "output_path": "__notebook__.ipynb",
   "parameters": {},
   "start_time": "2022-11-15T11:07:36.222940",
   "version": "2.3.4"
  },
  "widgets": {
   "application/vnd.jupyter.widget-state+json": {
    "state": {
     "0d9a9fecc0604cc681cac05627017faf": {
      "model_module": "@jupyter-widgets/controls",
      "model_module_version": "1.5.0",
      "model_name": "HTMLModel",
      "state": {
       "_dom_classes": [],
       "_model_module": "@jupyter-widgets/controls",
       "_model_module_version": "1.5.0",
       "_model_name": "HTMLModel",
       "_view_count": null,
       "_view_module": "@jupyter-widgets/controls",
       "_view_module_version": "1.5.0",
       "_view_name": "HTMLView",
       "description": "",
       "description_tooltip": null,
       "layout": "IPY_MODEL_55d2220c096744a7be8065a1f70c16ae",
       "placeholder": "​",
       "style": "IPY_MODEL_cf6a449755274e5091e10d4bcdff8212",
       "value": " 8000/8000 [03:32&lt;00:00, 33.97it/s]"
      }
     },
     "11ef4071f0c94d1ea47421304371811c": {
      "model_module": "@jupyter-widgets/base",
      "model_module_version": "1.2.0",
      "model_name": "LayoutModel",
      "state": {
       "_model_module": "@jupyter-widgets/base",
       "_model_module_version": "1.2.0",
       "_model_name": "LayoutModel",
       "_view_count": null,
       "_view_module": "@jupyter-widgets/base",
       "_view_module_version": "1.2.0",
       "_view_name": "LayoutView",
       "align_content": null,
       "align_items": null,
       "align_self": null,
       "border": null,
       "bottom": null,
       "display": null,
       "flex": null,
       "flex_flow": null,
       "grid_area": null,
       "grid_auto_columns": null,
       "grid_auto_flow": null,
       "grid_auto_rows": null,
       "grid_column": null,
       "grid_gap": null,
       "grid_row": null,
       "grid_template_areas": null,
       "grid_template_columns": null,
       "grid_template_rows": null,
       "height": null,
       "justify_content": null,
       "justify_items": null,
       "left": null,
       "margin": null,
       "max_height": null,
       "max_width": null,
       "min_height": null,
       "min_width": null,
       "object_fit": null,
       "object_position": null,
       "order": null,
       "overflow": null,
       "overflow_x": null,
       "overflow_y": null,
       "padding": null,
       "right": null,
       "top": null,
       "visibility": null,
       "width": null
      }
     },
     "3642362c2d5149dfacac89bba3d6194d": {
      "model_module": "@jupyter-widgets/base",
      "model_module_version": "1.2.0",
      "model_name": "LayoutModel",
      "state": {
       "_model_module": "@jupyter-widgets/base",
       "_model_module_version": "1.2.0",
       "_model_name": "LayoutModel",
       "_view_count": null,
       "_view_module": "@jupyter-widgets/base",
       "_view_module_version": "1.2.0",
       "_view_name": "LayoutView",
       "align_content": null,
       "align_items": null,
       "align_self": null,
       "border": null,
       "bottom": null,
       "display": null,
       "flex": null,
       "flex_flow": null,
       "grid_area": null,
       "grid_auto_columns": null,
       "grid_auto_flow": null,
       "grid_auto_rows": null,
       "grid_column": null,
       "grid_gap": null,
       "grid_row": null,
       "grid_template_areas": null,
       "grid_template_columns": null,
       "grid_template_rows": null,
       "height": null,
       "justify_content": null,
       "justify_items": null,
       "left": null,
       "margin": null,
       "max_height": null,
       "max_width": null,
       "min_height": null,
       "min_width": null,
       "object_fit": null,
       "object_position": null,
       "order": null,
       "overflow": null,
       "overflow_x": null,
       "overflow_y": null,
       "padding": null,
       "right": null,
       "top": null,
       "visibility": null,
       "width": null
      }
     },
     "491dab589add4cc79d6c9b2121f26e38": {
      "model_module": "@jupyter-widgets/controls",
      "model_module_version": "1.5.0",
      "model_name": "HBoxModel",
      "state": {
       "_dom_classes": [],
       "_model_module": "@jupyter-widgets/controls",
       "_model_module_version": "1.5.0",
       "_model_name": "HBoxModel",
       "_view_count": null,
       "_view_module": "@jupyter-widgets/controls",
       "_view_module_version": "1.5.0",
       "_view_name": "HBoxView",
       "box_style": "",
       "children": [
        "IPY_MODEL_f2b73d07691d416f85c4c5ad0c4c482e",
        "IPY_MODEL_cbe66fe2bb0645d190c7c19589f27525",
        "IPY_MODEL_0d9a9fecc0604cc681cac05627017faf"
       ],
       "layout": "IPY_MODEL_11ef4071f0c94d1ea47421304371811c"
      }
     },
     "55d2220c096744a7be8065a1f70c16ae": {
      "model_module": "@jupyter-widgets/base",
      "model_module_version": "1.2.0",
      "model_name": "LayoutModel",
      "state": {
       "_model_module": "@jupyter-widgets/base",
       "_model_module_version": "1.2.0",
       "_model_name": "LayoutModel",
       "_view_count": null,
       "_view_module": "@jupyter-widgets/base",
       "_view_module_version": "1.2.0",
       "_view_name": "LayoutView",
       "align_content": null,
       "align_items": null,
       "align_self": null,
       "border": null,
       "bottom": null,
       "display": null,
       "flex": null,
       "flex_flow": null,
       "grid_area": null,
       "grid_auto_columns": null,
       "grid_auto_flow": null,
       "grid_auto_rows": null,
       "grid_column": null,
       "grid_gap": null,
       "grid_row": null,
       "grid_template_areas": null,
       "grid_template_columns": null,
       "grid_template_rows": null,
       "height": null,
       "justify_content": null,
       "justify_items": null,
       "left": null,
       "margin": null,
       "max_height": null,
       "max_width": null,
       "min_height": null,
       "min_width": null,
       "object_fit": null,
       "object_position": null,
       "order": null,
       "overflow": null,
       "overflow_x": null,
       "overflow_y": null,
       "padding": null,
       "right": null,
       "top": null,
       "visibility": null,
       "width": null
      }
     },
     "70ac38fa72f04e5d8292888247ae34cc": {
      "model_module": "@jupyter-widgets/controls",
      "model_module_version": "1.5.0",
      "model_name": "ProgressStyleModel",
      "state": {
       "_model_module": "@jupyter-widgets/controls",
       "_model_module_version": "1.5.0",
       "_model_name": "ProgressStyleModel",
       "_view_count": null,
       "_view_module": "@jupyter-widgets/base",
       "_view_module_version": "1.2.0",
       "_view_name": "StyleView",
       "bar_color": null,
       "description_width": ""
      }
     },
     "a2ae7257d5ca46f08ee57de7b07d898d": {
      "model_module": "@jupyter-widgets/controls",
      "model_module_version": "1.5.0",
      "model_name": "DescriptionStyleModel",
      "state": {
       "_model_module": "@jupyter-widgets/controls",
       "_model_module_version": "1.5.0",
       "_model_name": "DescriptionStyleModel",
       "_view_count": null,
       "_view_module": "@jupyter-widgets/base",
       "_view_module_version": "1.2.0",
       "_view_name": "StyleView",
       "description_width": ""
      }
     },
     "cbe66fe2bb0645d190c7c19589f27525": {
      "model_module": "@jupyter-widgets/controls",
      "model_module_version": "1.5.0",
      "model_name": "FloatProgressModel",
      "state": {
       "_dom_classes": [],
       "_model_module": "@jupyter-widgets/controls",
       "_model_module_version": "1.5.0",
       "_model_name": "FloatProgressModel",
       "_view_count": null,
       "_view_module": "@jupyter-widgets/controls",
       "_view_module_version": "1.5.0",
       "_view_name": "ProgressView",
       "bar_style": "success",
       "description": "",
       "description_tooltip": null,
       "layout": "IPY_MODEL_e9b31aaff99f4c7f924b43a9a9c0595a",
       "max": 8000.0,
       "min": 0.0,
       "orientation": "horizontal",
       "style": "IPY_MODEL_70ac38fa72f04e5d8292888247ae34cc",
       "value": 8000.0
      }
     },
     "cf6a449755274e5091e10d4bcdff8212": {
      "model_module": "@jupyter-widgets/controls",
      "model_module_version": "1.5.0",
      "model_name": "DescriptionStyleModel",
      "state": {
       "_model_module": "@jupyter-widgets/controls",
       "_model_module_version": "1.5.0",
       "_model_name": "DescriptionStyleModel",
       "_view_count": null,
       "_view_module": "@jupyter-widgets/base",
       "_view_module_version": "1.2.0",
       "_view_name": "StyleView",
       "description_width": ""
      }
     },
     "e9b31aaff99f4c7f924b43a9a9c0595a": {
      "model_module": "@jupyter-widgets/base",
      "model_module_version": "1.2.0",
      "model_name": "LayoutModel",
      "state": {
       "_model_module": "@jupyter-widgets/base",
       "_model_module_version": "1.2.0",
       "_model_name": "LayoutModel",
       "_view_count": null,
       "_view_module": "@jupyter-widgets/base",
       "_view_module_version": "1.2.0",
       "_view_name": "LayoutView",
       "align_content": null,
       "align_items": null,
       "align_self": null,
       "border": null,
       "bottom": null,
       "display": null,
       "flex": null,
       "flex_flow": null,
       "grid_area": null,
       "grid_auto_columns": null,
       "grid_auto_flow": null,
       "grid_auto_rows": null,
       "grid_column": null,
       "grid_gap": null,
       "grid_row": null,
       "grid_template_areas": null,
       "grid_template_columns": null,
       "grid_template_rows": null,
       "height": null,
       "justify_content": null,
       "justify_items": null,
       "left": null,
       "margin": null,
       "max_height": null,
       "max_width": null,
       "min_height": null,
       "min_width": null,
       "object_fit": null,
       "object_position": null,
       "order": null,
       "overflow": null,
       "overflow_x": null,
       "overflow_y": null,
       "padding": null,
       "right": null,
       "top": null,
       "visibility": null,
       "width": null
      }
     },
     "f2b73d07691d416f85c4c5ad0c4c482e": {
      "model_module": "@jupyter-widgets/controls",
      "model_module_version": "1.5.0",
      "model_name": "HTMLModel",
      "state": {
       "_dom_classes": [],
       "_model_module": "@jupyter-widgets/controls",
       "_model_module_version": "1.5.0",
       "_model_name": "HTMLModel",
       "_view_count": null,
       "_view_module": "@jupyter-widgets/controls",
       "_view_module_version": "1.5.0",
       "_view_name": "HTMLView",
       "description": "",
       "description_tooltip": null,
       "layout": "IPY_MODEL_3642362c2d5149dfacac89bba3d6194d",
       "placeholder": "​",
       "style": "IPY_MODEL_a2ae7257d5ca46f08ee57de7b07d898d",
       "value": "100%"
      }
     }
    },
    "version_major": 2,
    "version_minor": 0
   }
  }
 },
 "nbformat": 4,
 "nbformat_minor": 5
}
